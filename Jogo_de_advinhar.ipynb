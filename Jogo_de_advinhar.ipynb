{
  "nbformat": 4,
  "nbformat_minor": 0,
  "metadata": {
    "colab": {
      "name": "Jogo de advinhar.ipynb",
      "provenance": [],
      "authorship_tag": "ABX9TyPKbVLYxfXarmU+pIpeErVM",
      "include_colab_link": true
    },
    "kernelspec": {
      "name": "python3",
      "display_name": "Python 3"
    },
    "language_info": {
      "name": "python"
    }
  },
  "cells": [
    {
      "cell_type": "markdown",
      "metadata": {
        "id": "view-in-github",
        "colab_type": "text"
      },
      "source": [
        "<a href=\"https://colab.research.google.com/github/Pedrosco/jogo-de-adivinhar-/blob/main/Jogo_de_advinhar.ipynb\" target=\"_parent\"><img src=\"https://colab.research.google.com/assets/colab-badge.svg\" alt=\"Open In Colab\"/></a>"
      ]
    },
    {
      "cell_type": "code",
      "metadata": {
        "id": "peV5skSJ5aC2"
      },
      "source": [
        "# Imports\n",
        "import time\n",
        "import random\n",
        "\n",
        "# Variáveis do código\n",
        "numero_secreto = 32\n",
        "total_tentativas = 10\n",
        "rodada = 1\n",
        "pontos = int(1000)\n",
        "time.sleep(2)\n",
        "\n",
        "#Função print do inicio do jogo\n",
        "print('|************************|')\n",
        "print('|   Jogo da advinhação   |')\n",
        "print('|************************|')\n",
        "\n",
        "# Método para usuário escolher a dificuldade\n",
        "time.sleep(2)\n",
        "print('Escolha seu nível de dificuldade: ')\n",
        "print('(1)Fácil, (2)Médio, (3)Difícil')\n",
        "nivel = int(input('Seleciona a dificuldade: '))\n",
        "if (nivel == 1):\n",
        "  total_tentativas = 20\n",
        "elif (nivel == 2):\n",
        "  total_tentativas = 10\n",
        "else:\n",
        "  total_tentativas = 5\n",
        "\n",
        "#Loop for para repetir as rodadas\n",
        "for rodada in range (1,total_tentativas + 1): \n",
        " print(f'Rodada {rodada} de {total_tentativas}')\n",
        " time.sleep(1)\n",
        " chute_str = (input('Digite o seu número: '))\n",
        " print(f'Você digitou {chute_str}')\n",
        " chute = int(chute_str)\n",
        " rodada = rodada + 1\n",
        " \n",
        " #Método para chutes maiores que 100\n",
        " if (chute < 1 or chute > 100):\n",
        "   print('Número inválido, você deve digitar um número entre 1 e 100')\n",
        "   continue\n",
        "\n",
        "# variáveis de comparação\n",
        " acertou = chute == numero_secreto\n",
        " maior   = chute > numero_secreto\n",
        " menor   = chute < numero_secreto\n",
        "\n",
        "# Métodos para verificar acertos ou erros\n",
        " if(acertou):\n",
        "   print(f'Você acertou!! Sua pontuação foi de {pontos}')\n",
        "   break\n",
        " else:\n",
        "   if(maior):  \n",
        "     print('O seu número foi maior que o número secreto') \n",
        "   elif(menor):\n",
        "     print('O seu número foi menor que o número secreto')\n",
        "\n",
        "   pontos_perdidos = int(abs(chute - numero_secreto))/3\n",
        "   pontos = int(pontos - pontos_perdidos)\n",
        "\n",
        "#Prints finais de fim de jogo e pontuação\n",
        "print('Fim de jogo')\n",
        "print(f'Sua pontuação foi de {pontos}')"
      ],
      "execution_count": null,
      "outputs": []
    }
  ]
}